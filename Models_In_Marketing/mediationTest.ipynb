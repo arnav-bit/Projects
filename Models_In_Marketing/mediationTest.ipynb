{
 "cells": [
  {
   "cell_type": "code",
   "execution_count": 2,
   "metadata": {},
   "outputs": [],
   "source": [
    "#import libraries\n",
    "\n",
    "import pandas as pd\n",
    "import statsmodels.api as sm\n",
    "\n"
   ]
  },
  {
   "cell_type": "code",
   "execution_count": 2,
   "metadata": {},
   "outputs": [
    {
     "data": {
      "text/html": [
       "<div>\n",
       "<style scoped>\n",
       "    .dataframe tbody tr th:only-of-type {\n",
       "        vertical-align: middle;\n",
       "    }\n",
       "\n",
       "    .dataframe tbody tr th {\n",
       "        vertical-align: top;\n",
       "    }\n",
       "\n",
       "    .dataframe thead th {\n",
       "        text-align: right;\n",
       "    }\n",
       "</style>\n",
       "<table border=\"1\" class=\"dataframe\">\n",
       "  <thead>\n",
       "    <tr style=\"text-align: right;\">\n",
       "      <th></th>\n",
       "      <th>ResponseID</th>\n",
       "      <th>Luxury</th>\n",
       "      <th>Ind_Coll</th>\n",
       "      <th>PSB</th>\n",
       "    </tr>\n",
       "  </thead>\n",
       "  <tbody>\n",
       "    <tr>\n",
       "      <th>0</th>\n",
       "      <td>R_8erEORFRzRXQXPL</td>\n",
       "      <td>0.0</td>\n",
       "      <td>4.000000</td>\n",
       "      <td>9.05</td>\n",
       "    </tr>\n",
       "    <tr>\n",
       "      <th>1</th>\n",
       "      <td>R_bBnlN3Y9r5kWSKp</td>\n",
       "      <td>1.0</td>\n",
       "      <td>1.166667</td>\n",
       "      <td>2.91</td>\n",
       "    </tr>\n",
       "    <tr>\n",
       "      <th>2</th>\n",
       "      <td>R_9KwZpWMcopY1KAt</td>\n",
       "      <td>0.0</td>\n",
       "      <td>4.000000</td>\n",
       "      <td>9.08</td>\n",
       "    </tr>\n",
       "    <tr>\n",
       "      <th>3</th>\n",
       "      <td>R_7USmL45gy8Of1gp</td>\n",
       "      <td>1.0</td>\n",
       "      <td>1.333333</td>\n",
       "      <td>2.85</td>\n",
       "    </tr>\n",
       "    <tr>\n",
       "      <th>4</th>\n",
       "      <td>R_a437p4RTCecMuOh</td>\n",
       "      <td>0.0</td>\n",
       "      <td>4.166667</td>\n",
       "      <td>8.65</td>\n",
       "    </tr>\n",
       "  </tbody>\n",
       "</table>\n",
       "</div>"
      ],
      "text/plain": [
       "          ResponseID  Luxury  Ind_Coll   PSB\n",
       "0  R_8erEORFRzRXQXPL     0.0  4.000000  9.05\n",
       "1  R_bBnlN3Y9r5kWSKp     1.0  1.166667  2.91\n",
       "2  R_9KwZpWMcopY1KAt     0.0  4.000000  9.08\n",
       "3  R_7USmL45gy8Of1gp     1.0  1.333333  2.85\n",
       "4  R_a437p4RTCecMuOh     0.0  4.166667  8.65"
      ]
     },
     "execution_count": 2,
     "metadata": {},
     "output_type": "execute_result"
    }
   ],
   "source": [
    "# #run this only once to convert the format\n",
    "# sav_file = pd.read_spss('Mediation.sav')\n",
    "# sav_file.head()"
   ]
  },
  {
   "cell_type": "code",
   "execution_count": 3,
   "metadata": {},
   "outputs": [],
   "source": [
    "# sav_file.to_csv(\"mediation_data.csv\", index = None)\n"
   ]
  },
  {
   "cell_type": "code",
   "execution_count": 3,
   "metadata": {},
   "outputs": [
    {
     "data": {
      "text/html": [
       "<div>\n",
       "<style scoped>\n",
       "    .dataframe tbody tr th:only-of-type {\n",
       "        vertical-align: middle;\n",
       "    }\n",
       "\n",
       "    .dataframe tbody tr th {\n",
       "        vertical-align: top;\n",
       "    }\n",
       "\n",
       "    .dataframe thead th {\n",
       "        text-align: right;\n",
       "    }\n",
       "</style>\n",
       "<table border=\"1\" class=\"dataframe\">\n",
       "  <thead>\n",
       "    <tr style=\"text-align: right;\">\n",
       "      <th></th>\n",
       "      <th>ResponseID</th>\n",
       "      <th>Luxury</th>\n",
       "      <th>Ind_Coll</th>\n",
       "      <th>PSB</th>\n",
       "    </tr>\n",
       "  </thead>\n",
       "  <tbody>\n",
       "    <tr>\n",
       "      <th>0</th>\n",
       "      <td>R_8erEORFRzRXQXPL</td>\n",
       "      <td>0.0</td>\n",
       "      <td>4.000000</td>\n",
       "      <td>9.05</td>\n",
       "    </tr>\n",
       "    <tr>\n",
       "      <th>1</th>\n",
       "      <td>R_bBnlN3Y9r5kWSKp</td>\n",
       "      <td>1.0</td>\n",
       "      <td>1.166667</td>\n",
       "      <td>2.91</td>\n",
       "    </tr>\n",
       "    <tr>\n",
       "      <th>2</th>\n",
       "      <td>R_9KwZpWMcopY1KAt</td>\n",
       "      <td>0.0</td>\n",
       "      <td>4.000000</td>\n",
       "      <td>9.08</td>\n",
       "    </tr>\n",
       "    <tr>\n",
       "      <th>3</th>\n",
       "      <td>R_7USmL45gy8Of1gp</td>\n",
       "      <td>1.0</td>\n",
       "      <td>1.333333</td>\n",
       "      <td>2.85</td>\n",
       "    </tr>\n",
       "    <tr>\n",
       "      <th>4</th>\n",
       "      <td>R_a437p4RTCecMuOh</td>\n",
       "      <td>0.0</td>\n",
       "      <td>4.166667</td>\n",
       "      <td>8.65</td>\n",
       "    </tr>\n",
       "  </tbody>\n",
       "</table>\n",
       "</div>"
      ],
      "text/plain": [
       "          ResponseID  Luxury  Ind_Coll   PSB\n",
       "0  R_8erEORFRzRXQXPL     0.0  4.000000  9.05\n",
       "1  R_bBnlN3Y9r5kWSKp     1.0  1.166667  2.91\n",
       "2  R_9KwZpWMcopY1KAt     0.0  4.000000  9.08\n",
       "3  R_7USmL45gy8Of1gp     1.0  1.333333  2.85\n",
       "4  R_a437p4RTCecMuOh     0.0  4.166667  8.65"
      ]
     },
     "execution_count": 3,
     "metadata": {},
     "output_type": "execute_result"
    }
   ],
   "source": [
    "main_df = pd.read_csv(\"mediation_data.csv\")\n",
    "main_df.head()\n"
   ]
  },
  {
   "attachments": {},
   "cell_type": "markdown",
   "metadata": {},
   "source": [
    "<h3>We need to check for mediation in this model. We are taking Luxury (binary) as an IV and PSB (metric) as a DV. We are checking for mediation by Ind_col (individualistic vs collective behaviour) a metric too </h3>"
   ]
  },
  {
   "cell_type": "code",
   "execution_count": 4,
   "metadata": {},
   "outputs": [
    {
     "name": "stdout",
     "output_type": "stream",
     "text": [
      "<class 'pandas.core.frame.DataFrame'>\n",
      "RangeIndex: 101 entries, 0 to 100\n",
      "Data columns (total 4 columns):\n",
      " #   Column      Non-Null Count  Dtype  \n",
      "---  ------      --------------  -----  \n",
      " 0   ResponseID  101 non-null    object \n",
      " 1   Luxury      101 non-null    float64\n",
      " 2   Ind_Coll    101 non-null    float64\n",
      " 3   PSB         101 non-null    float64\n",
      "dtypes: float64(3), object(1)\n",
      "memory usage: 3.3+ KB\n"
     ]
    }
   ],
   "source": [
    "main_df.info()"
   ]
  },
  {
   "cell_type": "code",
   "execution_count": 7,
   "metadata": {},
   "outputs": [
    {
     "data": {
      "text/html": [
       "<div>\n",
       "<style scoped>\n",
       "    .dataframe tbody tr th:only-of-type {\n",
       "        vertical-align: middle;\n",
       "    }\n",
       "\n",
       "    .dataframe tbody tr th {\n",
       "        vertical-align: top;\n",
       "    }\n",
       "\n",
       "    .dataframe thead th {\n",
       "        text-align: right;\n",
       "    }\n",
       "</style>\n",
       "<table border=\"1\" class=\"dataframe\">\n",
       "  <thead>\n",
       "    <tr style=\"text-align: right;\">\n",
       "      <th></th>\n",
       "      <th>Luxury</th>\n",
       "      <th>Ind_Coll</th>\n",
       "      <th>PSB</th>\n",
       "    </tr>\n",
       "  </thead>\n",
       "  <tbody>\n",
       "    <tr>\n",
       "      <th>count</th>\n",
       "      <td>101.000000</td>\n",
       "      <td>101.000000</td>\n",
       "      <td>101.000000</td>\n",
       "    </tr>\n",
       "    <tr>\n",
       "      <th>mean</th>\n",
       "      <td>0.495050</td>\n",
       "      <td>2.991749</td>\n",
       "      <td>6.841188</td>\n",
       "    </tr>\n",
       "    <tr>\n",
       "      <th>std</th>\n",
       "      <td>0.502469</td>\n",
       "      <td>0.942625</td>\n",
       "      <td>2.508989</td>\n",
       "    </tr>\n",
       "    <tr>\n",
       "      <th>min</th>\n",
       "      <td>0.000000</td>\n",
       "      <td>1.166667</td>\n",
       "      <td>1.510000</td>\n",
       "    </tr>\n",
       "    <tr>\n",
       "      <th>25%</th>\n",
       "      <td>0.000000</td>\n",
       "      <td>2.333333</td>\n",
       "      <td>5.010000</td>\n",
       "    </tr>\n",
       "    <tr>\n",
       "      <th>50%</th>\n",
       "      <td>0.000000</td>\n",
       "      <td>3.166667</td>\n",
       "      <td>6.050000</td>\n",
       "    </tr>\n",
       "    <tr>\n",
       "      <th>75%</th>\n",
       "      <td>1.000000</td>\n",
       "      <td>3.666667</td>\n",
       "      <td>10.000000</td>\n",
       "    </tr>\n",
       "    <tr>\n",
       "      <th>max</th>\n",
       "      <td>1.000000</td>\n",
       "      <td>5.000000</td>\n",
       "      <td>10.000000</td>\n",
       "    </tr>\n",
       "  </tbody>\n",
       "</table>\n",
       "</div>"
      ],
      "text/plain": [
       "           Luxury    Ind_Coll         PSB\n",
       "count  101.000000  101.000000  101.000000\n",
       "mean     0.495050    2.991749    6.841188\n",
       "std      0.502469    0.942625    2.508989\n",
       "min      0.000000    1.166667    1.510000\n",
       "25%      0.000000    2.333333    5.010000\n",
       "50%      0.000000    3.166667    6.050000\n",
       "75%      1.000000    3.666667   10.000000\n",
       "max      1.000000    5.000000   10.000000"
      ]
     },
     "execution_count": 7,
     "metadata": {},
     "output_type": "execute_result"
    }
   ],
   "source": [
    "main_df.describe()"
   ]
  },
  {
   "attachments": {},
   "cell_type": "markdown",
   "metadata": {},
   "source": [
    "<h3> Testing H1. We check for a direct relationship between Luxury and PSB. Higher the luxury environment, lower the Pro Social Behaviour </h3>\n",
    "\n",
    "<h4> From the analysis below, we see that luxury has a significant impact on PSB. It has a negative impact on PSB (since we get a negative coefficient) </h4>"
   ]
  },
  {
   "cell_type": "code",
   "execution_count": 5,
   "metadata": {},
   "outputs": [
    {
     "name": "stdout",
     "output_type": "stream",
     "text": [
      "                            OLS Regression Results                            \n",
      "==============================================================================\n",
      "Dep. Variable:                    PSB   R-squared:                       0.218\n",
      "Model:                            OLS   Adj. R-squared:                  0.210\n",
      "Method:                 Least Squares   F-statistic:                     27.60\n",
      "Date:                Tue, 03 Oct 2023   Prob (F-statistic):           8.59e-07\n",
      "Time:                        11:04:41   Log-Likelihood:                -223.30\n",
      "No. Observations:                 101   AIC:                             450.6\n",
      "Df Residuals:                      99   BIC:                             455.8\n",
      "Df Model:                           1                                         \n",
      "Covariance Type:            nonrobust                                         \n",
      "==============================================================================\n",
      "                 coef    std err          t      P>|t|      [0.025      0.975]\n",
      "------------------------------------------------------------------------------\n",
      "const          7.9953      0.312     25.605      0.000       7.376       8.615\n",
      "Luxury        -2.3313      0.444     -5.253      0.000      -3.212      -1.451\n",
      "==============================================================================\n",
      "Omnibus:                        0.207   Durbin-Watson:                   2.005\n",
      "Prob(Omnibus):                  0.902   Jarque-Bera (JB):                0.390\n",
      "Skew:                          -0.012   Prob(JB):                        0.823\n",
      "Kurtosis:                       2.696   Cond. No.                         2.61\n",
      "==============================================================================\n",
      "\n",
      "Notes:\n",
      "[1] Standard Errors assume that the covariance matrix of the errors is correctly specified.\n"
     ]
    }
   ],
   "source": [
    "#testing hypothesis\n",
    "\n",
    "predictor, target = main_df['Luxury'], main_df['PSB']\n",
    "predictorX = sm.add_constant(predictor)\n",
    "\n",
    "modelSummary1 = sm.OLS(target, predictorX).fit()\n",
    "print(modelSummary1.summary())\n"
   ]
  },
  {
   "attachments": {},
   "cell_type": "markdown",
   "metadata": {},
   "source": [
    "<h3> Testing Hypothesis 2. We here check for a relation between Luxury (IV) and ind_coll (mediator) </h3>\n",
    "<h4> From the analysis below, we see again, that luxury has a significant impact (which is negative) on ind_coll. Hence higher the exposure to luxury, lower is the collective behaviour </h4>"
   ]
  },
  {
   "cell_type": "code",
   "execution_count": 6,
   "metadata": {},
   "outputs": [
    {
     "name": "stdout",
     "output_type": "stream",
     "text": [
      "                            OLS Regression Results                            \n",
      "==============================================================================\n",
      "Dep. Variable:               Ind_Coll   R-squared:                       0.586\n",
      "Model:                            OLS   Adj. R-squared:                  0.582\n",
      "Method:                 Least Squares   F-statistic:                     140.1\n",
      "Date:                Tue, 03 Oct 2023   Prob (F-statistic):           1.16e-20\n",
      "Time:                        11:04:45   Log-Likelihood:                -92.320\n",
      "No. Observations:                 101   AIC:                             188.6\n",
      "Df Residuals:                      99   BIC:                             193.9\n",
      "Df Model:                           1                                         \n",
      "Covariance Type:            nonrobust                                         \n",
      "==============================================================================\n",
      "                 coef    std err          t      P>|t|      [0.025      0.975]\n",
      "------------------------------------------------------------------------------\n",
      "const          3.7026      0.085     43.373      0.000       3.533       3.872\n",
      "Luxury        -1.4359      0.121    -11.835      0.000      -1.677      -1.195\n",
      "==============================================================================\n",
      "Omnibus:                       15.309   Durbin-Watson:                   2.196\n",
      "Prob(Omnibus):                  0.000   Jarque-Bera (JB):               20.597\n",
      "Skew:                           0.745   Prob(JB):                     3.37e-05\n",
      "Kurtosis:                       4.636   Cond. No.                         2.61\n",
      "==============================================================================\n",
      "\n",
      "Notes:\n",
      "[1] Standard Errors assume that the covariance matrix of the errors is correctly specified.\n"
     ]
    }
   ],
   "source": [
    "#testing hypothesis 2\n",
    "\n",
    "predictor2, target2 = main_df['Luxury'], main_df['Ind_Coll']\n",
    "predictor2X = sm.add_constant(predictor2)\n",
    "\n",
    "modelSummary2 = sm.OLS(target2, predictor2X).fit()\n",
    "print(modelSummary2.summary())\n"
   ]
  },
  {
   "attachments": {},
   "cell_type": "markdown",
   "metadata": {},
   "source": [
    "<h3> Testing Hypothesis 3. We here check for a relation between ind_coll (metric mediator) and PSB (metric DV) </h3>\n",
    "<h4> From the analysis below, we see again, that ind_coll has a significant impact (which is positive) on PSB. Hence higher the collective behaviour/value, higher is the PSB </h4>"
   ]
  },
  {
   "cell_type": "code",
   "execution_count": 7,
   "metadata": {},
   "outputs": [
    {
     "name": "stdout",
     "output_type": "stream",
     "text": [
      "                            OLS Regression Results                            \n",
      "==============================================================================\n",
      "Dep. Variable:                    PSB   R-squared:                       0.448\n",
      "Model:                            OLS   Adj. R-squared:                  0.443\n",
      "Method:                 Least Squares   F-statistic:                     80.38\n",
      "Date:                Tue, 03 Oct 2023   Prob (F-statistic):           1.97e-14\n",
      "Time:                        11:04:49   Log-Likelihood:                -205.70\n",
      "No. Observations:                 101   AIC:                             415.4\n",
      "Df Residuals:                      99   BIC:                             420.6\n",
      "Df Model:                           1                                         \n",
      "Covariance Type:            nonrobust                                         \n",
      "==============================================================================\n",
      "                 coef    std err          t      P>|t|      [0.025      0.975]\n",
      "------------------------------------------------------------------------------\n",
      "const          1.5106      0.623      2.424      0.017       0.274       2.747\n",
      "Ind_Coll       1.7817      0.199      8.965      0.000       1.387       2.176\n",
      "==============================================================================\n",
      "Omnibus:                        3.325   Durbin-Watson:                   1.914\n",
      "Prob(Omnibus):                  0.190   Jarque-Bera (JB):                2.816\n",
      "Skew:                          -0.261   Prob(JB):                        0.245\n",
      "Kurtosis:                       3.630   Cond. No.                         11.5\n",
      "==============================================================================\n",
      "\n",
      "Notes:\n",
      "[1] Standard Errors assume that the covariance matrix of the errors is correctly specified.\n"
     ]
    }
   ],
   "source": [
    "#testing hypothesis 3\n",
    "\n",
    "predictor3, target3 = main_df['Ind_Coll'], main_df['PSB']\n",
    "predictor3X = sm.add_constant(predictor3)\n",
    "\n",
    "modelSummary3 = sm.OLS(target3, predictor3X).fit()\n",
    "print(modelSummary3.summary())\n"
   ]
  },
  {
   "attachments": {},
   "cell_type": "markdown",
   "metadata": {},
   "source": [
    "<h3> Testing for H4. Checking for full or partial mediation </h3>\n"
   ]
  },
  {
   "cell_type": "code",
   "execution_count": 8,
   "metadata": {},
   "outputs": [
    {
     "name": "stdout",
     "output_type": "stream",
     "text": [
      "                            OLS Regression Results                            \n",
      "==============================================================================\n",
      "Dep. Variable:                    PSB   R-squared:                       0.453\n",
      "Model:                            OLS   Adj. R-squared:                  0.442\n",
      "Method:                 Least Squares   F-statistic:                     40.60\n",
      "Date:                Tue, 03 Oct 2023   Prob (F-statistic):           1.44e-13\n",
      "Time:                        11:04:52   Log-Likelihood:                -205.24\n",
      "No. Observations:                 101   AIC:                             416.5\n",
      "Df Residuals:                      98   BIC:                             424.3\n",
      "Df Model:                           2                                         \n",
      "Covariance Type:            nonrobust                                         \n",
      "==============================================================================\n",
      "                 coef    std err          t      P>|t|      [0.025      0.975]\n",
      "------------------------------------------------------------------------------\n",
      "const          0.5693      1.174      0.485      0.629      -1.760       2.899\n",
      "Luxury         0.5487      0.580      0.947      0.346      -0.602       1.699\n",
      "Ind_Coll       2.0056      0.309      6.491      0.000       1.392       2.619\n",
      "==============================================================================\n",
      "Omnibus:                        2.743   Durbin-Watson:                   1.908\n",
      "Prob(Omnibus):                  0.254   Jarque-Bera (JB):                2.246\n",
      "Skew:                          -0.203   Prob(JB):                        0.325\n",
      "Kurtosis:                       3.607   Cond. No.                         23.2\n",
      "==============================================================================\n",
      "\n",
      "Notes:\n",
      "[1] Standard Errors assume that the covariance matrix of the errors is correctly specified.\n"
     ]
    }
   ],
   "source": [
    "mediation_model = sm.OLS(main_df['PSB'], sm.add_constant(main_df[['Luxury', 'Ind_Coll']])).fit()\n",
    "print(mediation_model.summary())"
   ]
  },
  {
   "attachments": {},
   "cell_type": "markdown",
   "metadata": {},
   "source": [
    "<h4> Hence, we see that by adding a mediator (H4) the effect of the IV (Luxury) on DV (PSB) becomes less. Also, we see that the significance value goes above 5%, making it not significant to the model anymore. When the effect of IV on DV becomes non significant by adding a mediator and the effect of mediator is still significant, then we call it <b><i> Full Mediation </i></b></h4>"
   ]
  }
 ],
 "metadata": {
  "kernelspec": {
   "display_name": "base",
   "language": "python",
   "name": "python3"
  },
  "language_info": {
   "codemirror_mode": {
    "name": "ipython",
    "version": 3
   },
   "file_extension": ".py",
   "mimetype": "text/x-python",
   "name": "python",
   "nbconvert_exporter": "python",
   "pygments_lexer": "ipython3",
   "version": "3.9.12 (main, Apr  5 2022, 01:53:17) \n[Clang 12.0.0 ]"
  },
  "orig_nbformat": 4,
  "vscode": {
   "interpreter": {
    "hash": "c7f5207c784bc4f77917ee9cf999fdc451e6a11bc1e083cb0208cab24f90e986"
   }
  }
 },
 "nbformat": 4,
 "nbformat_minor": 2
}
